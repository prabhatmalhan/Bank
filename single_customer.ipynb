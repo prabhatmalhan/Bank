{
 "cells": [
  {
   "cell_type": "markdown",
   "metadata": {},
   "source": [
    "# Single Customer Control"
   ]
  },
  {
   "cell_type": "code",
   "execution_count": 1,
   "metadata": {},
   "outputs": [],
   "source": [
    "class Account:\n",
    "    \n",
    "    def __init__(self,owner,balance):\n",
    "        \n",
    "        self.owner=owner\n",
    "        self.balance=balance\n",
    "        \n",
    "    \n",
    "    def __str__(self):\n",
    "        return f'Account Owner : {self.owner}\\nAccount Balance: {self.balance}'\n",
    "    \n",
    "    \n",
    "    def deposit(self,money):\n",
    "        print('Deposit Accepted')\n",
    "        self.balance+=money\n",
    "        \n",
    "        \n",
    "    def withdraw(self,money):\n",
    "        if(money<=self.balance):\n",
    "            print('Withdrawl Accepted')\n",
    "            self.balance-=money\n",
    "        else:\n",
    "            print('Funds Unavailable')"
   ]
  },
  {
   "cell_type": "code",
   "execution_count": 3,
   "metadata": {},
   "outputs": [
    {
     "name": "stdout",
     "output_type": "stream",
     "text": [
      "Enter the customer's name : Prabhat\n",
      "Enter the balance in account : 5000\n",
      "Type ('w' for withdrawl , 'd' for deposite , 'e' for exit)\n",
      "Enter choice : w\n",
      "Money to be withdrawn : 4001\n",
      "Withdrawl Accepted\n",
      "Your available account balance = 999.0\n",
      "\n",
      "Type ('w' for withdrawl , 'd' for deposite , 'e' for exit)\n",
      "Enter choice : d\n",
      "Money to be deposited : 10000\n",
      "Deposit Accepted\n",
      "Your available account balance = 10999.0\n",
      "\n",
      "Type ('w' for withdrawl , 'd' for deposite , 'e' for exit)\n",
      "Enter choice : e\n"
     ]
    }
   ],
   "source": [
    "name=input('Enter the customer\\'s name : ')\n",
    "bal=float(input('Enter the balance in account : '))\n",
    "acc=Account(name,bal)\n",
    "while True:\n",
    "    print('Type (\\'w\\' for withdrawl , \\'d\\' for deposite , \\'e\\' for exit)')\n",
    "    ch=input('Enter choice : ')\n",
    "    if ch.lower()=='w' :\n",
    "        acc.withdraw(float(input('Money to be withdrawn : ')))\n",
    "        print(f'Your available account balance = {acc.balance}\\n')\n",
    "    elif ch.lower()=='d' :\n",
    "        acc.deposit(float(input('Money to be deposited : ')))\n",
    "        print(f'Your available account balance = {acc.balance}\\n')\n",
    "    elif ch.lower()=='e':\n",
    "        break\n",
    "    else:\n",
    "        print('OOPs! Error Occured')"
   ]
  }
 ],
 "metadata": {
  "kernelspec": {
   "display_name": "Python 3",
   "language": "python",
   "name": "python3"
  },
  "language_info": {
   "codemirror_mode": {
    "name": "ipython",
    "version": 3
   },
   "file_extension": ".py",
   "mimetype": "text/x-python",
   "name": "python",
   "nbconvert_exporter": "python",
   "pygments_lexer": "ipython3",
   "version": "3.8.0"
  }
 },
 "nbformat": 4,
 "nbformat_minor": 2
}
